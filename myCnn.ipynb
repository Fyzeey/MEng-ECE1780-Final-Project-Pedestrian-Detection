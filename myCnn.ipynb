{
 "cells": [
  {
   "cell_type": "code",
   "execution_count": 1,
   "metadata": {
    "collapsed": true
   },
   "outputs": [],
   "source": [
    "import tensorflow as tf\n",
    "import numpy as np\n",
    "import matplotlib as mpl\n",
    "import matplotlib.pyplot as plt\n",
    "import time\n",
    "import os\n",
    "from PIL import Image\n",
    "%config IPCompleter.greedy=True"
   ]
  },
  {
   "cell_type": "code",
   "execution_count": 2,
   "metadata": {
    "collapsed": true
   },
   "outputs": [],
   "source": [
    "IMAGE_HEIGHT = 64\n",
    "IMAGE_WIDTH = 64\n",
    "IMAGE_CHANNELS = 3"
   ]
  },
  {
   "cell_type": "code",
   "execution_count": 3,
   "metadata": {
    "collapsed": true
   },
   "outputs": [],
   "source": [
    "data_path = 'kaggle_inria/'"
   ]
  },
  {
   "cell_type": "code",
   "execution_count": 4,
   "metadata": {
    "collapsed": true
   },
   "outputs": [],
   "source": [
    "def createTFRecordsFile(src_dir, tfrecords_name):\n",
    "    dir = src_dir\n",
    "    writer = tf.python_io.TFRecordWriter(tfrecords_name)\n",
    "\n",
    "    samples_size = 0\n",
    "    index = -1\n",
    "    classes_dict = {}\n",
    "\n",
    "    for folder_name in os.listdir(dir):\n",
    "        if folder_name != '.DS_Store':\n",
    "            class_path = dir + '/' + folder_name + '/'\n",
    "            # class_path = dir+'\\\\'+folder_name+'\\\\'\n",
    "            index += 1\n",
    "            classes_dict[index] = folder_name\n",
    "            #print(index, folder_name + \"!\")\n",
    "            for image_name in os.listdir(class_path):\n",
    "                if image_name != '.DS_Store':\n",
    "                    image_path = class_path + image_name\n",
    "                    #print(image_path + \"!!\")\n",
    "                    img = Image.open(image_path)\n",
    "                    img = img.resize((IMAGE_HEIGHT, IMAGE_WIDTH))\n",
    "                    img_raw = img.tobytes()\n",
    "                    example = tf.train.Example(\n",
    "                        features=tf.train.Features(\n",
    "                            feature={\n",
    "                                'label': tf.train.Feature(int64_list=tf.train.Int64List(value=[index])),\n",
    "                                # 'label': tf.train.Feature(bytes_list=tf.train.BytesList(value=[bytes(index)])),\n",
    "                                'image_raw': tf.train.Feature(bytes_list=tf.train.BytesList(value=[img_raw]))\n",
    "                            }\n",
    "                        )\n",
    "                    )\n",
    "                    writer.write(example.SerializeToString())\n",
    "                    samples_size += 1\n",
    "                else:\n",
    "                    pass\n",
    "        else:\n",
    "            pass\n",
    "        \n",
    "    writer.close()\n",
    "    print(\"totally %i samples\" % samples_size)\n",
    "    print(classes_dict)\n",
    "    return samples_size, classes_dict"
   ]
  },
  {
   "cell_type": "code",
   "execution_count": 5,
   "metadata": {
    "collapsed": true
   },
   "outputs": [],
   "source": [
    "def decodeTFRecordsFile(tfrecords_name):\n",
    "    file_queue = tf.train.string_input_producer([tfrecords_name])\n",
    "    reader = tf.TFRecordReader()\n",
    "    _, serialized_example = reader.read(file_queue)\n",
    "    features = tf.parse_single_example(\n",
    "        serialized_example,\n",
    "        features={\n",
    "            'label': tf.FixedLenFeature([], tf.int64),\n",
    "            'image_raw': tf.FixedLenFeature([], tf.string)\n",
    "        }\n",
    "    )\n",
    "    img = tf.decode_raw(features['image_raw'], tf.uint8)\n",
    "    img = tf.reshape(img, [IMAGE_HEIGHT, IMAGE_WIDTH, 3])\n",
    "    img = tf.cast(img, tf.float32) * (1. / 255) - 0.5\n",
    "    label = tf.cast(features['label'], tf.int32)\n",
    "\n",
    "    return img, label"
   ]
  },
  {
   "cell_type": "code",
   "execution_count": 6,
   "metadata": {
    "collapsed": true
   },
   "outputs": [],
   "source": [
    "def inputs(tfrecords_name, batch_size, shuffle=True):\n",
    "    image, label = decodeTFRecordsFile(tfrecords_name)\n",
    "    if (shuffle):\n",
    "        images, labels = tf.train.shuffle_batch([image, label],\n",
    "                                                batch_size=batch_size,\n",
    "                                                capacity=train_samples_size + batch_size,\n",
    "                                                min_after_dequeue=train_samples_size)\n",
    "    else:\n",
    "        # input_queue = tf.train.slice_input_producer([image, label], shuffle=False)\n",
    "        images, labels = tf.train.batch([image, label],\n",
    "                                        batch_size=batch_size,\n",
    "                                        capacity=batch_size * 2)\n",
    "    return images, labels"
   ]
  },
  {
   "cell_type": "code",
   "execution_count": 7,
   "metadata": {
    "collapsed": true
   },
   "outputs": [],
   "source": [
    "def createPedestrianTrainTFRecordsFile():\n",
    "    src_dir = data_path + 'train'\n",
    "    # src_dir = 'fruits_360_dataset_2018_01_02\\Training'\n",
    "    print('createPedestrianTrainTFRecordsFile', src_dir)\n",
    "    tfrecords_name = 'pedestrian_train.tfrecords'\n",
    "    samples_size, pedestrian_dict = createTFRecordsFile(src_dir=src_dir, tfrecords_name=tfrecords_name)\n",
    "    print('createPedestrianTrainTFRecordsFile done')\n",
    "    return samples_size, pedestrian_dict\n",
    "\n",
    "\n",
    "def createPedestrianTestTFRecordsFile():\n",
    "    src_dir = data_path + 'validation'\n",
    "    # src_dir = 'fruits_360_dataset_2018_01_02\\Validation'\n",
    "    print('createPedestrianTestTFRecordsFile', src_dir)\n",
    "    tfrecords_name = 'pedestrian_test.tfrecords'\n",
    "    samples_size, pedestrian_dict = createTFRecordsFile(src_dir=src_dir, tfrecords_name=tfrecords_name)\n",
    "    print('createPedestrianTestTFRecordsFile done')\n",
    "    return samples_size, pedestrian_dict"
   ]
  },
  {
   "cell_type": "code",
   "execution_count": 8,
   "metadata": {},
   "outputs": [
    {
     "name": "stdout",
     "output_type": "stream",
     "text": [
      "createPedestrianTrainTFRecordsFile kaggle_inria/train\n",
      "totally 3074 samples\n",
      "{0: 'no pedestrian', 1: 'pedestrian'}\n",
      "createPedestrianTrainTFRecordsFile done\n",
      "createPedestrianTestTFRecordsFile kaggle_inria/validation\n",
      "totally 354 samples\n",
      "{0: 'no pedestrian', 1: 'pedestrian'}\n",
      "createPedestrianTestTFRecordsFile done\n"
     ]
    }
   ],
   "source": [
    "train_samples_size, pedestrian_dict = createPedestrianTrainTFRecordsFile()  # 28736\n",
    "test_samples_size, pedestrian_dict = createPedestrianTestTFRecordsFile()  # 9673"
   ]
  },
  {
   "cell_type": "code",
   "execution_count": 9,
   "metadata": {
    "collapsed": true
   },
   "outputs": [],
   "source": [
    "def init_weights(shape):\n",
    "    init_random_dist = tf.truncated_normal(shape, stddev=0.1)\n",
    "    return tf.Variable(init_random_dist)\n",
    "\n",
    "def init_bias(shape):\n",
    "    init_bias_vals = tf.constant(0.1, shape=shape)\n",
    "    return tf.Variable(init_bias_vals)\n",
    "\n",
    "def conv2d(x, W):\n",
    "    return tf.nn.conv2d(x, W, strides=[1, 1, 1, 1], padding='SAME')\n",
    "\n",
    "def max_pool_2by2(x):\n",
    "    return tf.nn.max_pool(x, ksize=[1, 2, 2, 1],\n",
    "                          strides=[1, 2, 2, 1], padding='SAME')\n",
    "\n",
    "def convolutional_layer(input_x, shape):\n",
    "    W = init_weights(shape)\n",
    "    b = init_bias([shape[3]])\n",
    "    return tf.nn.relu(conv2d(input_x, W) + b)\n",
    "\n",
    "def normal_full_layer(input_layer, size):\n",
    "    input_size = int(input_layer.get_shape()[1])\n",
    "    W = init_weights([input_size, size])\n",
    "    b = init_bias([size])\n",
    "    return tf.matmul(input_layer, W) + b"
   ]
  },
  {
   "cell_type": "markdown",
   "metadata": {},
   "source": [
    "### Constants"
   ]
  },
  {
   "cell_type": "code",
   "execution_count": 10,
   "metadata": {},
   "outputs": [
    {
     "name": "stdout",
     "output_type": "stream",
     "text": [
      "2\n"
     ]
    }
   ],
   "source": [
    "# network parameters\n",
    "num_input = IMAGE_HEIGHT * IMAGE_WIDTH * IMAGE_CHANNELS\n",
    "num_classes = len(pedestrian_dict)\n",
    "\n",
    "print(num_classes)\n",
    "\n",
    "useCkpt = False\n",
    "\n",
    "num_steps = 5000\n",
    "batch_size = 50\n",
    "update_step = 100\n",
    "display_step = 100\n",
    "train_acc_target = 1\n",
    "train_acc_target_cnt = train_samples_size / batch_size"
   ]
  },
  {
   "cell_type": "code",
   "execution_count": 11,
   "metadata": {},
   "outputs": [
    {
     "name": "stdout",
     "output_type": "stream",
     "text": [
      "Tensor(\"image:0\", shape=(?, 12288), dtype=float32)\n"
     ]
    }
   ],
   "source": [
    "x = tf.placeholder(tf.float32,shape=[None,num_input],name='image')\n",
    "print(x)"
   ]
  },
  {
   "cell_type": "code",
   "execution_count": 12,
   "metadata": {},
   "outputs": [
    {
     "name": "stdout",
     "output_type": "stream",
     "text": [
      "Tensor(\"Reshape:0\", shape=(?, 64, 64, 3), dtype=float32)\n"
     ]
    }
   ],
   "source": [
    "x_image = tf.reshape(x,[-1,IMAGE_HEIGHT,IMAGE_WIDTH,IMAGE_CHANNELS])\n",
    "print(x_image)"
   ]
  },
  {
   "cell_type": "code",
   "execution_count": 13,
   "metadata": {
    "collapsed": true
   },
   "outputs": [],
   "source": [
    "convo_1 = convolutional_layer(x_image,shape=[6,6,3,32])\n",
    "convo_1_pooling = max_pool_2by2(convo_1)"
   ]
  },
  {
   "cell_type": "code",
   "execution_count": 14,
   "metadata": {
    "collapsed": true
   },
   "outputs": [],
   "source": [
    "convo_2 = convolutional_layer(convo_1_pooling,shape=[6,6,32,64])\n",
    "convo_2_pooling = max_pool_2by2(convo_2)"
   ]
  },
  {
   "cell_type": "code",
   "execution_count": 15,
   "metadata": {
    "collapsed": true
   },
   "outputs": [],
   "source": [
    "convo_2_flat = tf.reshape(convo_2_pooling,[-1,16*16*64])\n",
    "full_layer_one = tf.nn.relu(normal_full_layer(convo_2_flat,1024))"
   ]
  },
  {
   "cell_type": "code",
   "execution_count": 16,
   "metadata": {},
   "outputs": [
    {
     "name": "stdout",
     "output_type": "stream",
     "text": [
      "Tensor(\"add_3:0\", shape=(?, 2), dtype=float32)\n"
     ]
    }
   ],
   "source": [
    "y_pred = normal_full_layer(full_layer_one, 2)\n",
    "print(y_pred)"
   ]
  },
  {
   "cell_type": "code",
   "execution_count": 17,
   "metadata": {
    "collapsed": true
   },
   "outputs": [],
   "source": [
    "saver = tf.train.Saver()"
   ]
  },
  {
   "cell_type": "code",
   "execution_count": 18,
   "metadata": {
    "collapsed": true
   },
   "outputs": [],
   "source": [
    "y_true = tf.placeholder(tf.float32,shape=[None,num_classes])"
   ]
  },
  {
   "cell_type": "code",
   "execution_count": 19,
   "metadata": {
    "collapsed": true
   },
   "outputs": [],
   "source": [
    "cross_entropy = tf.reduce_mean(tf.nn.softmax_cross_entropy_with_logits(labels=y_true,logits=y_pred))"
   ]
  },
  {
   "cell_type": "code",
   "execution_count": 20,
   "metadata": {
    "collapsed": true
   },
   "outputs": [],
   "source": [
    "optimizer = tf.train.AdamOptimizer(learning_rate=0.0001)\n",
    "train = optimizer.minimize(cross_entropy)"
   ]
  },
  {
   "cell_type": "code",
   "execution_count": 21,
   "metadata": {
    "collapsed": true
   },
   "outputs": [],
   "source": [
    "correct_pred = tf.equal(tf.argmax(y_pred,1),tf.argmax(y_true,1))\n",
    "accuracy = tf.reduce_mean(tf.cast(correct_pred, tf.float32))"
   ]
  },
  {
   "cell_type": "code",
   "execution_count": 22,
   "metadata": {
    "collapsed": true
   },
   "outputs": [],
   "source": [
    "init = tf.global_variables_initializer()"
   ]
  },
  {
   "cell_type": "code",
   "execution_count": 23,
   "metadata": {
    "collapsed": true
   },
   "outputs": [],
   "source": [
    "tfrecords_name = 'pedestrian_test.tfrecords'"
   ]
  },
  {
   "cell_type": "code",
   "execution_count": 24,
   "metadata": {
    "collapsed": true
   },
   "outputs": [],
   "source": [
    "def trainModel():\n",
    "    for i in range(num_steps):\n",
    "        batch_x, y = sess.run([images, labels])\n",
    "\n",
    "        batch_y = np.zeros(shape=[batch_size, num_classes])\n",
    "\n",
    "        for index in range(batch_size):\n",
    "            batch_y[index, y[index]] = 1\n",
    "        batch_x = np.reshape(batch_x, [batch_size, num_input])\n",
    "\n",
    "        # run optimization op (backprop)\n",
    "        sess.run(train, feed_dict={x: batch_x, y_true: batch_y})\n",
    "        \n",
    "        if i%100 == 0:\n",
    "            print('Currently on step {}'.format(i))\n",
    "            print('Accuracy is:')\n",
    "            # Test the Train Model\n",
    "            \n",
    "            matches = tf.equal(tf.argmax(y_pred,1),tf.argmax(y_true,1))\n",
    "\n",
    "            acc = tf.reduce_mean(tf.cast(matches,tf.float32))\n",
    "\n",
    "            print(sess.run(acc,feed_dict={x: batch_x, y_true: batch_y}))\n",
    "            print('\\n')\n",
    "            \n",
    "        "
   ]
  },
  {
   "cell_type": "code",
   "execution_count": 25,
   "metadata": {
    "collapsed": true
   },
   "outputs": [],
   "source": [
    "def testModel(images, labels):\n",
    "    samples_untest = test_samples_size\n",
    "    acc_sum = 0\n",
    "    test_sample_sum = 0\n",
    "    while samples_untest > 0:\n",
    "        test_batch_size = batch_size\n",
    "        test_images, y = sess.run([images, labels])\n",
    "        test_labels = np.zeros(shape=[test_batch_size, num_classes])\n",
    "        for i in range(test_batch_size):\n",
    "            test_labels[i, y[i]] = 1\n",
    "\n",
    "        test_images = np.reshape(test_images, [test_batch_size, num_input])\n",
    "        acc = sess.run(accuracy, feed_dict={x: test_images, y_true: test_labels})\n",
    "        acc_sum += acc * test_batch_size\n",
    "        samples_untest -= test_batch_size\n",
    "        test_sample_sum += test_batch_size\n",
    "    print(\"Testing accuracy = \", \\\n",
    "          # sess.run(accuracy,feed_dict={X:mnist.test.images/255, Y:mnist.test.labels}))\n",
    "          acc_sum / test_sample_sum)"
   ]
  },
  {
   "cell_type": "code",
   "execution_count": 26,
   "metadata": {},
   "outputs": [
    {
     "name": "stdout",
     "output_type": "stream",
     "text": [
      "Start training\n",
      "Currently on step 0\n",
      "Accuracy is:\n",
      "0.42\n",
      "\n",
      "\n",
      "Currently on step 100\n",
      "Accuracy is:\n",
      "0.8\n",
      "\n",
      "\n",
      "Currently on step 200\n",
      "Accuracy is:\n",
      "0.76\n",
      "\n",
      "\n",
      "Currently on step 300\n",
      "Accuracy is:\n",
      "0.94\n",
      "\n",
      "\n",
      "Currently on step 400\n",
      "Accuracy is:\n",
      "0.9\n",
      "\n",
      "\n",
      "Currently on step 500\n",
      "Accuracy is:\n",
      "0.96\n",
      "\n",
      "\n",
      "Currently on step 600\n",
      "Accuracy is:\n",
      "1.0\n",
      "\n",
      "\n",
      "Currently on step 700\n",
      "Accuracy is:\n",
      "1.0\n",
      "\n",
      "\n",
      "Currently on step 800\n",
      "Accuracy is:\n",
      "1.0\n",
      "\n",
      "\n",
      "Currently on step 900\n",
      "Accuracy is:\n",
      "1.0\n",
      "\n",
      "\n",
      "Currently on step 1000\n",
      "Accuracy is:\n",
      "1.0\n",
      "\n",
      "\n",
      "Currently on step 1100\n",
      "Accuracy is:\n",
      "1.0\n",
      "\n",
      "\n",
      "Currently on step 1200\n",
      "Accuracy is:\n",
      "1.0\n",
      "\n",
      "\n",
      "Currently on step 1300\n",
      "Accuracy is:\n",
      "1.0\n",
      "\n",
      "\n",
      "Currently on step 1400\n",
      "Accuracy is:\n",
      "1.0\n",
      "\n",
      "\n",
      "Currently on step 1500\n",
      "Accuracy is:\n",
      "1.0\n",
      "\n",
      "\n",
      "Currently on step 1600\n",
      "Accuracy is:\n",
      "1.0\n",
      "\n",
      "\n",
      "Currently on step 1700\n",
      "Accuracy is:\n",
      "1.0\n",
      "\n",
      "\n",
      "Currently on step 1800\n",
      "Accuracy is:\n",
      "1.0\n",
      "\n",
      "\n",
      "Currently on step 1900\n",
      "Accuracy is:\n",
      "1.0\n",
      "\n",
      "\n",
      "Currently on step 2000\n",
      "Accuracy is:\n",
      "1.0\n",
      "\n",
      "\n",
      "Currently on step 2100\n",
      "Accuracy is:\n",
      "1.0\n",
      "\n",
      "\n",
      "Currently on step 2200\n",
      "Accuracy is:\n",
      "1.0\n",
      "\n",
      "\n",
      "Currently on step 2300\n",
      "Accuracy is:\n",
      "1.0\n",
      "\n",
      "\n",
      "Currently on step 2400\n",
      "Accuracy is:\n",
      "1.0\n",
      "\n",
      "\n",
      "Currently on step 2500\n",
      "Accuracy is:\n",
      "1.0\n",
      "\n",
      "\n",
      "Currently on step 2600\n",
      "Accuracy is:\n",
      "1.0\n",
      "\n",
      "\n",
      "Currently on step 2700\n",
      "Accuracy is:\n",
      "1.0\n",
      "\n",
      "\n",
      "Currently on step 2800\n",
      "Accuracy is:\n",
      "1.0\n",
      "\n",
      "\n",
      "Currently on step 2900\n",
      "Accuracy is:\n",
      "1.0\n",
      "\n",
      "\n",
      "Currently on step 3000\n",
      "Accuracy is:\n",
      "1.0\n",
      "\n",
      "\n",
      "Currently on step 3100\n",
      "Accuracy is:\n",
      "1.0\n",
      "\n",
      "\n",
      "Currently on step 3200\n",
      "Accuracy is:\n",
      "1.0\n",
      "\n",
      "\n",
      "Currently on step 3300\n",
      "Accuracy is:\n",
      "1.0\n",
      "\n",
      "\n",
      "Currently on step 3400\n",
      "Accuracy is:\n",
      "1.0\n",
      "\n",
      "\n",
      "Currently on step 3500\n",
      "Accuracy is:\n",
      "1.0\n",
      "\n",
      "\n",
      "Currently on step 3600\n",
      "Accuracy is:\n",
      "1.0\n",
      "\n",
      "\n",
      "Currently on step 3700\n",
      "Accuracy is:\n",
      "1.0\n",
      "\n",
      "\n",
      "Currently on step 3800\n",
      "Accuracy is:\n",
      "1.0\n",
      "\n",
      "\n",
      "Currently on step 3900\n",
      "Accuracy is:\n",
      "1.0\n",
      "\n",
      "\n",
      "Currently on step 4000\n",
      "Accuracy is:\n",
      "1.0\n",
      "\n",
      "\n",
      "Currently on step 4100\n",
      "Accuracy is:\n",
      "1.0\n",
      "\n",
      "\n",
      "Currently on step 4200\n",
      "Accuracy is:\n",
      "1.0\n",
      "\n",
      "\n",
      "Currently on step 4300\n",
      "Accuracy is:\n",
      "1.0\n",
      "\n",
      "\n",
      "Currently on step 4400\n",
      "Accuracy is:\n",
      "1.0\n",
      "\n",
      "\n",
      "Currently on step 4500\n",
      "Accuracy is:\n",
      "1.0\n",
      "\n",
      "\n",
      "Currently on step 4600\n",
      "Accuracy is:\n",
      "1.0\n",
      "\n",
      "\n",
      "Currently on step 4700\n",
      "Accuracy is:\n",
      "1.0\n",
      "\n",
      "\n",
      "Currently on step 4800\n",
      "Accuracy is:\n",
      "1.0\n",
      "\n",
      "\n",
      "Currently on step 4900\n",
      "Accuracy is:\n",
      "1.0\n",
      "\n",
      "\n",
      "Training finish!\n",
      "Tensor(\"add_3:0\", shape=(?, 2), dtype=float32)\n",
      "Tensor(\"prediction:0\", shape=(?, 2), dtype=float32)\n",
      "Tensor(\"Reshape:0\", shape=(?, 64, 64, 3), dtype=float32)\n",
      "Model saved in path: ./saved_models/model.ckpt\n",
      "Testing accuracy =  0.88750000298\n"
     ]
    }
   ],
   "source": [
    "# start training\n",
    "with tf.Session() as sess:\n",
    "    # run the initailizer\n",
    "    sess.run(init)\n",
    "\n",
    "    # train batch\n",
    "    tfrecords_name = 'pedestrian_train.tfrecords'\n",
    "    images, labels = inputs(tfrecords_name, batch_size, shuffle=True)\n",
    "    # create coord\n",
    "    coord = tf.train.Coordinator()\n",
    "    threads = tf.train.start_queue_runners(sess=sess, coord=coord)\n",
    "\n",
    "    if useCkpt:\n",
    "        ckpt = tf.train.get_checkpoint_state(checkpoint_dir)\n",
    "        if ckpt and ckpt.model_checkpoint_path:\n",
    "            saver.restore(sess, ckpt.model_checkpoint_path)\n",
    "        else:\n",
    "            pass\n",
    "\n",
    "    # train the model\n",
    "    print(\"Start training\")\n",
    "    trainModel()\n",
    "    print(\"Training finish!\")\n",
    "    \n",
    "    \n",
    "    digit_probabilities = tf.nn.softmax(y_pred, name='prediction')\n",
    "    print(y_pred)\n",
    "    print(digit_probabilities)\n",
    "    print(x_image)\n",
    "\n",
    "    tf.add_to_collection('model', digit_probabilities)          # Specify the graph nodes that we want to use later\n",
    "    tf.add_to_collection('model_inputs', x_image)\n",
    "    \n",
    "    save_path = saver.save(sess,'./saved_models/model.ckpt')\n",
    "    \n",
    "    print(\"Model saved in path: %s\" % save_path)\n",
    "    \n",
    "    # test batch\n",
    "    tfrecords_name = 'pedestrian_test.tfrecords'\n",
    "    images, labels = inputs(tfrecords_name, batch_size, shuffle=False)\n",
    "    \n",
    "    # create coord\n",
    "    coord2 = tf.train.Coordinator()\n",
    "    threads2 = tf.train.start_queue_runners(sess=sess, coord=coord2)\n",
    "\n",
    "    # test the model\n",
    "    testModel(images, labels)\n",
    "\n",
    "    # close coord\n",
    "    coord.request_stop()\n",
    "    coord.join(threads)\n",
    "    coord2.request_stop()\n",
    "    coord2.join(threads2)\n",
    "    sess.close()"
   ]
  },
  {
   "cell_type": "code",
   "execution_count": null,
   "metadata": {
    "collapsed": true
   },
   "outputs": [],
   "source": []
  },
  {
   "cell_type": "code",
   "execution_count": null,
   "metadata": {
    "collapsed": true
   },
   "outputs": [],
   "source": []
  }
 ],
 "metadata": {
  "kernelspec": {
   "display_name": "Python 3",
   "language": "python",
   "name": "python3"
  },
  "language_info": {
   "codemirror_mode": {
    "name": "ipython",
    "version": 3
   },
   "file_extension": ".py",
   "mimetype": "text/x-python",
   "name": "python",
   "nbconvert_exporter": "python",
   "pygments_lexer": "ipython3",
   "version": "3.6.3"
  }
 },
 "nbformat": 4,
 "nbformat_minor": 2
}
